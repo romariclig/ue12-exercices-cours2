{
 "cells": [
  {
   "cell_type": "code",
   "execution_count": null,
   "id": "507137e4-5912-49fc-b9bd-3b65d4c6c5e4",
   "metadata": {},
   "outputs": [],
   "source": [
    "# %%\n",
    "\n",
    "# À ex'écuter en premier\n",
    "import numpy as np"
   ]
  },
  {
   "cell_type": "code",
   "execution_count": null,
   "id": "dc21d99f-fed2-429b-b3d9-1a0c9a795a57",
   "metadata": {},
   "outputs": [],
   "source": [
    "# %%\n",
    "\n",
    "# À ex'écuter en premier\n",
    "import numpy as np"
   ]
  },
  {
   "cell_type": "code",
   "execution_count": null,
   "id": "5e7d2e99-9784-4d89-9400-6cd2ac29b9e3",
   "metadata": {},
   "outputs": [],
   "source": [
    "# %%\n",
    "\n",
    "# À ex'écuter en premier\n",
    "import numpy as np"
   ]
  },
  {
   "cell_type": "markdown",
   "id": "90163d92-6c5f-44ba-86a8-86a9cf391241",
   "metadata": {},
   "source": [
    "# %% [markdown]\n",
    "\n",
    " # Niveau 1 : Création de tableaux simples"
   ]
  },
  {
   "cell_type": "markdown",
   "id": "b0470b88-c195-4e7c-8fe1-021376c0b1a9",
   "metadata": {},
   "source": [
    "# %% [markdown]\n",
    "\n",
    " ## Exercices 1.1.\tCréer un tableau de 5 zéros\n",
    "\n",
    " Compléter la fonction `create_zeros` pour qu'elle retourne un tableau de 5 éléments égaux à 0."
   ]
  },
  {
   "cell_type": "code",
   "execution_count": null,
   "id": "2f0bab91-3688-40b8-a249-32372e1dccd6",
   "metadata": {},
   "outputs": [
    {
     "name": "stdout",
     "output_type": "stream",
     "text": [
      "[0. 0. 0. 0. 0.]\n"
     ]
    }
   ],
   "source": [
    "# %%\n",
    "\n",
    "def create_zeros():\n",
    "    return np.zeros(5)  # 👈 Insérez le code ici\n",
    "\n",
    "\n",
    "print(create_zeros())  # attendu: [0. 0. 0. 0. 0.]"
   ]
  },
  {
   "cell_type": "markdown",
   "id": "58dc55f9-b43d-4fa4-bb29-53c6fb082a1b",
   "metadata": {},
   "source": [
    "# %% [markdown]\n",
    "\n",
    " ## Exercices 1.2.\tCréer un tableau de 5 uns\n",
    "\n",
    " Compléter la fonction `create_ones` pour qu'elle retourne un tableau de 5 éléments égaux à 1."
   ]
  },
  {
   "cell_type": "code",
   "execution_count": null,
   "id": "7e8f8561-8816-4c72-b656-59684664db80",
   "metadata": {},
   "outputs": [
    {
     "name": "stdout",
     "output_type": "stream",
     "text": [
      "[1. 1. 1. 1. 1.]\n"
     ]
    }
   ],
   "source": [
    "# %%\n",
    "\n",
    "def create_ones():\n",
    "    return np.ones(5)  # 👈 Insérez le code ici\n",
    "\n",
    "\n",
    "print(create_ones())  # attendu: [1. 1. 1. 1. 1.]"
   ]
  },
  {
   "cell_type": "markdown",
   "id": "2afbbf51-dd1f-4a64-bbd0-d796c618a7fd",
   "metadata": {},
   "source": [
    "# %% [markdown]\n",
    "\n",
    " ## Exercices 1.3.\tCréer un tableau contenant les entiers de 10 à 50\n",
    "\n",
    " Compléter la fonction `create_range` pour qu'elle retourne un tableau contenant les entiers de 10 à 50 inclus."
   ]
  },
  {
   "cell_type": "code",
   "execution_count": null,
   "id": "7e8123b3-0b53-40a4-9065-68b0969ebe2e",
   "metadata": {},
   "outputs": [
    {
     "name": "stdout",
     "output_type": "stream",
     "text": [
      "[10 11 12 13 14 15 16 17 18 19 20 21 22 23 24 25 26 27 28 29 30 31 32 33\n",
      " 34 35 36 37 38 39 40 41 42 43 44 45 46 47 48 49 50]\n"
     ]
    }
   ],
   "source": [
    "# %%\n",
    "\n",
    "def create_range():\n",
    "    return np.arange(10,51)  # 👈 Insérez le code ici\n",
    "\n",
    "\n",
    "print(create_range())  # attendu: [10 11 12 13 14 15 16 17 ...] (jusqu'à 50 inclus)"
   ]
  },
  {
   "cell_type": "markdown",
   "id": "207eac0c-0aca-4a37-ba51-c3814f6d024f",
   "metadata": {},
   "source": [
    "# %% [markdown]\n",
    "\n",
    " ## Exercices 1.4.\tCréer une matrice identité 3x3\n",
    "\n",
    " Compléter la fonction `create_identity` pour qu'elle retourne une matrice identité de taille 3x3."
   ]
  },
  {
   "cell_type": "code",
   "execution_count": null,
   "id": "7dfe38a6-f438-49ad-b54f-7b1d5e23089b",
   "metadata": {},
   "outputs": [
    {
     "name": "stdout",
     "output_type": "stream",
     "text": [
      "[[1 0 0]\n",
      " [0 1 0]\n",
      " [0 0 1]]\n"
     ]
    }
   ],
   "source": [
    "# %%\n",
    "\n",
    "def create_identity():\n",
    "    return np.array([[1,0,0],[0,1,0],[0,0,1]])  # 👈 Insérez le code ici\n",
    "\n",
    "\n",
    "print(create_identity())  # attendu: [[1. 0. 0.]\n",
    "#                                     [0. 1. 0.]\n",
    "#                                     [0. 0. 1.]]"
   ]
  },
  {
   "cell_type": "code",
   "execution_count": null,
   "id": "5aa2d3f1-d19b-4d28-9163-98850d5f5bfb",
   "metadata": {},
   "outputs": [
    {
     "name": "stdout",
     "output_type": "stream",
     "text": [
      "[[1. 0. 0.]\n",
      " [0. 1. 0.]\n",
      " [0. 0. 1.]]\n"
     ]
    }
   ],
   "source": [
    "# %%\n",
    "\n",
    "def create_identity():\n",
    "    return np.array([[1.,0,0],[0,1.,0],[0,0,1.]])  # 👈 Insérez le code ici\n",
    "\n",
    "\n",
    "print(create_identity())  # attendu: [[1. 0. 0.]\n",
    "#                                     [0. 1. 0.]\n",
    "#                                     [0. 0. 1.]]"
   ]
  },
  {
   "cell_type": "markdown",
   "id": "ef590a01-24f8-4877-a6b2-493e6444e47b",
   "metadata": {},
   "source": [
    "# %% [markdown]\n",
    "\n",
    " ## Exercices 1.5.\tCréer un tableau 2D de forme (3,3) rempli de nombres aléatoires entre 0 et 1\n",
    "\n",
    " Compléter la fonction `create_random` pour qu'elle retourne un tableau 2D de forme (3,3) rempli de nombres aléatoires entre 0 et 1."
   ]
  },
  {
   "cell_type": "code",
   "execution_count": null,
   "id": "0c6e9f64-47dc-407d-aaac-dafc8d88d8c4",
   "metadata": {},
   "outputs": [
    {
     "ename": "TypeError",
     "evalue": "'module' object is not callable",
     "output_type": "error",
     "traceback": [
      "\u001b[1;31m---------------------------------------------------------------------------\u001b[0m",
      "\u001b[1;31mTypeError\u001b[0m                                 Traceback (most recent call last)",
      "File \u001b[1;32mc:\\Users\\liger\\Documents\\trucs_info\\ue12-exercices-cours2\\exercices.py:6\u001b[0m\n\u001b[0;32m      2\u001b[0m \u001b[39mdef\u001b[39;00m \u001b[39mcreate_random\u001b[39m():\n\u001b[0;32m      3\u001b[0m     \u001b[39mreturn\u001b[39;00m np\u001b[39m.\u001b[39mrandom((\u001b[39m3\u001b[39m,\u001b[39m3\u001b[39m))  \u001b[39m# 👈 Insérez le code ici\u001b[39;00m\n\u001b[1;32m----> 6\u001b[0m \u001b[39mprint\u001b[39m(create_random())  \u001b[39m# attendu: un tableau 3x3 de valeurs aléatoires entre 0 et 1\u001b[39;00m\n",
      "File \u001b[1;32mc:\\Users\\liger\\Documents\\trucs_info\\ue12-exercices-cours2\\exercices.py:3\u001b[0m\n\u001b[0;32m      2\u001b[0m \u001b[39mdef\u001b[39;00m \u001b[39mcreate_random\u001b[39m():\n\u001b[1;32m----> 3\u001b[0m     \u001b[39mreturn\u001b[39;00m np\u001b[39m.\u001b[39;49mrandom((\u001b[39m3\u001b[39;49m,\u001b[39m3\u001b[39;49m))\n",
      "\u001b[1;31mTypeError\u001b[0m: 'module' object is not callable"
     ]
    }
   ],
   "source": [
    "# %%\n",
    "\n",
    "def create_random():\n",
    "    return np.random((3,3))  # 👈 Insérez le code ici\n",
    "\n",
    "\n",
    "print(create_random())  # attendu: un tableau 3x3 de valeurs aléatoires entre 0 et 1"
   ]
  },
  {
   "cell_type": "code",
   "execution_count": null,
   "id": "226137f0-eab4-48db-bed2-c6e6871104f5",
   "metadata": {},
   "outputs": [
    {
     "ename": "TypeError",
     "evalue": "'tuple' object cannot be interpreted as an integer",
     "output_type": "error",
     "traceback": [
      "\u001b[1;31m---------------------------------------------------------------------------\u001b[0m",
      "\u001b[1;31mTypeError\u001b[0m                                 Traceback (most recent call last)",
      "File \u001b[1;32mc:\\Users\\liger\\Documents\\trucs_info\\ue12-exercices-cours2\\exercices.py:6\u001b[0m\n\u001b[0;32m      2\u001b[0m \u001b[39mdef\u001b[39;00m \u001b[39mcreate_random\u001b[39m():\n\u001b[0;32m      3\u001b[0m     \u001b[39mreturn\u001b[39;00m np\u001b[39m.\u001b[39mrandom\u001b[39m.\u001b[39mrandn((\u001b[39m3\u001b[39m,\u001b[39m3\u001b[39m))  \u001b[39m# 👈 Insérez le code ici\u001b[39;00m\n\u001b[1;32m----> 6\u001b[0m \u001b[39mprint\u001b[39m(create_random())  \u001b[39m# attendu: un tableau 3x3 de valeurs aléatoires entre 0 et 1\u001b[39;00m\n",
      "File \u001b[1;32mc:\\Users\\liger\\Documents\\trucs_info\\ue12-exercices-cours2\\exercices.py:3\u001b[0m\n\u001b[0;32m      2\u001b[0m \u001b[39mdef\u001b[39;00m \u001b[39mcreate_random\u001b[39m():\n\u001b[1;32m----> 3\u001b[0m     \u001b[39mreturn\u001b[39;00m np\u001b[39m.\u001b[39;49mrandom\u001b[39m.\u001b[39;49mrandn((\u001b[39m3\u001b[39;49m,\u001b[39m3\u001b[39;49m))\n",
      "File \u001b[1;32mnumpy\\\\random\\\\mtrand.pyx:1310\u001b[0m, in \u001b[0;36mnumpy.random.mtrand.RandomState.randn\u001b[1;34m()\u001b[0m\n",
      "File \u001b[1;32mnumpy\\\\random\\\\mtrand.pyx:1471\u001b[0m, in \u001b[0;36mnumpy.random.mtrand.RandomState.standard_normal\u001b[1;34m()\u001b[0m\n",
      "File \u001b[1;32m_common.pyx:657\u001b[0m, in \u001b[0;36mnumpy.random._common.cont\u001b[1;34m()\u001b[0m\n",
      "\u001b[1;31mTypeError\u001b[0m: 'tuple' object cannot be interpreted as an integer"
     ]
    }
   ],
   "source": [
    "# %%\n",
    "\n",
    "def create_random():\n",
    "    return np.random.randn((3,3))  # 👈 Insérez le code ici\n",
    "\n",
    "\n",
    "print(create_random())  # attendu: un tableau 3x3 de valeurs aléatoires entre 0 et 1"
   ]
  },
  {
   "cell_type": "code",
   "execution_count": null,
   "id": "d951ada0-dc3a-4f2a-a355-395fdc888dad",
   "metadata": {},
   "outputs": [
    {
     "ename": "TypeError",
     "evalue": "randn() got an unexpected keyword argument 'shape'",
     "output_type": "error",
     "traceback": [
      "\u001b[1;31m---------------------------------------------------------------------------\u001b[0m",
      "\u001b[1;31mTypeError\u001b[0m                                 Traceback (most recent call last)",
      "File \u001b[1;32mc:\\Users\\liger\\Documents\\trucs_info\\ue12-exercices-cours2\\exercices.py:6\u001b[0m\n\u001b[0;32m      2\u001b[0m \u001b[39mdef\u001b[39;00m \u001b[39mcreate_random\u001b[39m():\n\u001b[0;32m      3\u001b[0m     \u001b[39mreturn\u001b[39;00m np\u001b[39m.\u001b[39mrandom\u001b[39m.\u001b[39mrandn(shape\u001b[39m=\u001b[39m(\u001b[39m3\u001b[39m,\u001b[39m3\u001b[39m))  \u001b[39m# 👈 Insérez le code ici\u001b[39;00m\n\u001b[1;32m----> 6\u001b[0m \u001b[39mprint\u001b[39m(create_random())  \u001b[39m# attendu: un tableau 3x3 de valeurs aléatoires entre 0 et 1\u001b[39;00m\n",
      "File \u001b[1;32mc:\\Users\\liger\\Documents\\trucs_info\\ue12-exercices-cours2\\exercices.py:3\u001b[0m\n\u001b[0;32m      2\u001b[0m \u001b[39mdef\u001b[39;00m \u001b[39mcreate_random\u001b[39m():\n\u001b[1;32m----> 3\u001b[0m     \u001b[39mreturn\u001b[39;00m np\u001b[39m.\u001b[39;49mrandom\u001b[39m.\u001b[39;49mrandn(shape\u001b[39m=\u001b[39;49m(\u001b[39m3\u001b[39;49m,\u001b[39m3\u001b[39;49m))\n",
      "\u001b[1;31mTypeError\u001b[0m: randn() got an unexpected keyword argument 'shape'"
     ]
    }
   ],
   "source": [
    "# %%\n",
    "\n",
    "def create_random():\n",
    "    return np.random.randn(shape=(3,3))  # 👈 Insérez le code ici\n",
    "\n",
    "\n",
    "print(create_random())  # attendu: un tableau 3x3 de valeurs aléatoires entre 0 et 1"
   ]
  },
  {
   "cell_type": "code",
   "execution_count": null,
   "id": "3010ae98-6566-4ec8-bf43-980e02aff46f",
   "metadata": {},
   "outputs": [
    {
     "name": "stdout",
     "output_type": "stream",
     "text": [
      "[[-0.79268498 -1.53902432 -0.75753228]\n",
      " [-0.24790708 -2.39609991 -0.36032834]\n",
      " [ 0.21216695 -0.91092152  0.14791942]]\n"
     ]
    }
   ],
   "source": [
    "# %%\n",
    "\n",
    "def create_random():\n",
    "    return np.random.randn(3,3)  # 👈 Insérez le code ici\n",
    "\n",
    "\n",
    "print(create_random())  # attendu: un tableau 3x3 de valeurs aléatoires entre 0 et 1"
   ]
  }
 ],
 "metadata": {
  "language_info": {
   "codemirror_mode": {
    "name": "ipython",
    "version": 3
   },
   "file_extension": ".py",
   "mimetype": "text/x-python",
   "name": "python",
   "nbconvert_exporter": "python",
   "pygments_lexer": "ipython3",
   "version": 3
  }
 },
 "nbformat": 4,
 "nbformat_minor": 2
}
